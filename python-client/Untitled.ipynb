{
 "cells": [
  {
   "cell_type": "markdown",
   "metadata": {},
   "source": [
    "# Elasticsearch use case\n",
    "\n",
    "Here we try the possibility given by elasticsearch and its python high level sdk, elasticsearch_dsl."
   ]
  },
  {
   "cell_type": "markdown",
   "metadata": {},
   "source": [
    "First, import the needed modules and create a connection.\n",
    "\n",
    "Here we assume an istance of elasticsearch is running on localhost, on the default port."
   ]
  },
  {
   "cell_type": "code",
   "execution_count": null,
   "metadata": {},
   "outputs": [],
   "source": [
    "from datetime import datetime\n",
    "\n",
    "from elasticsearch_dsl import (\n",
    "    DocType, Keyword, Date, Float, Nested, InnerObjectWrapper, Search\n",
    ")\n",
    "from elasticsearch_dsl.aggs import A\n",
    "from elasticsearch_dsl.connections import connections\n",
    "from elasticsearch_dsl.query import Q\n",
    "\n",
    "\n",
    "# Connect to a local ES instance\n",
    "connections.create_connection(hosts=['localhost'], timeout=20)\n"
   ]
  },
  {
   "cell_type": "markdown",
   "metadata": {},
   "source": [
    "## Define the doc type\n",
    "\n",
    "Next we define a DocType, BasicMetric, that will tell ES how to represent our objects.\n",
    "\n",
    "If this is not set first, ES will create it by itself the first time you send data to it.\n",
    "\n",
    "We create it manually so we can define some fields as Keyword rather than Text where we \n",
    "won't need Full Text Search. This will make the index faster, and will avoid the creation\n",
    "of a wrong index caused by malformed data"
   ]
  },
  {
   "cell_type": "code",
   "execution_count": null,
   "metadata": {},
   "outputs": [],
   "source": [
    "class BasicMetric(DocType):\n",
    "    \"\"\"\n",
    "    Besic metric mapping\n",
    "    \"\"\"\n",
    "    metric_type = Keyword()\n",
    "    user_id = Keyword()\n",
    "    timestamp = Date()\n",
    "    value = Float()\n",
    "    metadata = Nested(\n",
    "        properties={\n",
    "            'type': Keyword(),\n",
    "            'unique_id': Keyword(),\n",
    "        }\n",
    "    )\n",
    "\n",
    "    class Meta:\n",
    "        index = 'metrics'\n"
   ]
  },
  {
   "cell_type": "markdown",
   "metadata": {},
   "source": [
    "## Initialize metric\n",
    "\n",
    "We can now add one record by istantiating a BasicMetric object and calling the save() method (much like the Django ORM)"
   ]
  },
  {
   "cell_type": "code",
   "execution_count": null,
   "metadata": {},
   "outputs": [],
   "source": [
    "metric = BasicMetric(metric_type='time', user_id='prova id', timestamp=datetime.now(), value=1.245)\n",
    "metric.metadata.append({'type': 'provatype', 'unique_id': 'very unique id'})\n",
    "metric.save()\n",
    "print(\"==> Metric: %s\" % metric)\n"
   ]
  },
  {
   "cell_type": "markdown",
   "metadata": {
    "collapsed": true
   },
   "source": [
    "## An example search\n",
    "\n",
    "Here is how we can make call to ES. Let's say we want to ask for all our records, limiting the fields that will be returned:"
   ]
  },
  {
   "cell_type": "code",
   "execution_count": null,
   "metadata": {},
   "outputs": [],
   "source": [
    "s = Search()\n",
    "s = s.source(['user_id', 'value', 'metadata'])\n",
    "s.to_dict()\n",
    "response = s.execute()\n",
    "print(\"==> Success:\\t%s\" % response.success())\n",
    "print(\"==> Total hits:\\t%s\" % response.hits.total)"
   ]
  },
  {
   "cell_type": "markdown",
   "metadata": {},
   "source": [
    "## Some usefull search queries\n",
    "\n",
    "Elasticsearch DSL allow us to build queries with a DjangoORM-like syntax.\n",
    "Search objects have methods like .filter() and .exclude().\n",
    "\n",
    "We can build aggregations using the A object and we can build queries using Q objects\n",
    "and combine them with logic operators.\n",
    "\n"
   ]
  },
  {
   "cell_type": "markdown",
   "metadata": {},
   "source": [
    "### Get all records with a time metric value between 2000 and 30000\n"
   ]
  },
  {
   "cell_type": "code",
   "execution_count": null,
   "metadata": {},
   "outputs": [],
   "source": [
    "s = Search().filter('range', value={\"gte\": 2000, \"lte\": 30000})\n",
    "response = s.execute()\n",
    "print(\"==> Response:\")\n",
    "print(response)\n",
    "print(\"==> Hits:\")\n",
    "print(response.hits[0])\n",
    "print(\"==> First user id:\")\n",
    "print(response.hits[0].user_id)"
   ]
  },
  {
   "cell_type": "markdown",
   "metadata": {},
   "source": [
    "### Number of records per user\n",
    "\n",
    "This is how we can build an aggregation.\n",
    "We can also use the to_dict() method to show the query we just built, and if we set the size of the Search object to 0, we can retrieve only the aggregations."
   ]
  },
  {
   "cell_type": "code",
   "execution_count": null,
   "metadata": {},
   "outputs": [],
   "source": [
    "# Define aggregation\n",
    "agg = A('terms', field='user_id', include='user_id')\n",
    "# init search\n",
    "s = Search()\n",
    "# Size 0\n",
    "s = s[0:0]\n",
    "# Add aggregation\n",
    "s.aggs.bucket('group_by_user', agg)\n",
    "# Dict representation\n",
    "s.to_dict()"
   ]
  },
  {
   "cell_type": "markdown",
   "metadata": {},
   "source": [
    "### Average time by segment\n",
    "\n",
    "Here we use the Q object to build the query"
   ]
  },
  {
   "cell_type": "code",
   "execution_count": null,
   "metadata": {},
   "outputs": [],
   "source": [
    "s = Search()\n",
    "\n",
    "# Set size to 0, we only want aggregations\n",
    "s = s[0:0]\n",
    "\n",
    "# Queries\n",
    "s = s.filter('term', metric_type='time')\n",
    "q = Q('term', metadata__resource_type='segment')\n",
    "s = s.filter('nested', path='metadata', query=q)\n",
    "\n",
    "# Aggregations (read it down-top)\n",
    "a = A('avg', field='value')\n",
    "a = A('reverse_nested', aggs={'avg_time': a})\n",
    "a = A('terms', field='metadata.resource_id', aggs={'average': a})\n",
    "a = A('nested', path='metadata', aggs={'segments': a})\n",
    "s.aggs.bucket('by_segment_id', a)\n",
    "\n",
    "s.to_dict()\n",
    "\n",
    "resp = s.execute()\n",
    "print(\"==> Buckets: %s\" % resp.aggregations.by_segment_id.segments.buckets)\n",
    "print(\"==> Doc count: %s\" % resp.aggregations.by_segment_id.segments.buckets[0].doc_count)\n"
   ]
  },
  {
   "cell_type": "markdown",
   "metadata": {},
   "source": [
    "### Best time for a given segment"
   ]
  },
  {
   "cell_type": "code",
   "execution_count": null,
   "metadata": {},
   "outputs": [],
   "source": [
    "s = Search()\n",
    "\n",
    "# We only want the first result and user_id and value fields\n",
    "s = s[0:1]\n",
    "s = s.source(['user_id', 'value'])\n",
    "\n",
    "# Sorting\n",
    "s = s.sort('-value')\n",
    "\n",
    "# Filter it\n",
    "s = s.filter('term', metric_type='time')\n",
    "q = Q('term', metadata__resource_type='segment')\n",
    "q &= Q('term', metadata__resource_id='segment-id')\n",
    "s = s.filter('nested', path='metadata', query=q)\n",
    "\n",
    "s.to_dict()"
   ]
  },
  {
   "cell_type": "code",
   "execution_count": null,
   "metadata": {},
   "outputs": [],
   "source": [
    "s.execute() # No results if we don't set an existing segment_id"
   ]
  },
  {
   "cell_type": "markdown",
   "metadata": {},
   "source": [
    "### Best time in a given segment for a given user"
   ]
  },
  {
   "cell_type": "code",
   "execution_count": null,
   "metadata": {},
   "outputs": [],
   "source": [
    "q1 = {'term': {\"metadata__resource_type\": 'segment'}}\n",
    "q2 = {'term': {\"metadata__resource_id\": 'segment-id'}}\n",
    "q = Q('bool', filter=[q1,q2])\n",
    "\n",
    "s = Search()[0:1]\\\n",
    "        .source(['user_id', 'value'])\\\n",
    "        .sort('-value')\\\n",
    "        .filter('term', metric_type='time')\\\n",
    "        .filter('term', user_id='user-id')\\\n",
    "        .filter('nested', path='metadata', query=q)\n",
    "\n",
    "s.to_dict()"
   ]
  }
 ],
 "metadata": {
  "kernelspec": {
   "display_name": "Python 3",
   "language": "python",
   "name": "python3"
  },
  "language_info": {
   "codemirror_mode": {
    "name": "ipython",
    "version": 3
   },
   "file_extension": ".py",
   "mimetype": "text/x-python",
   "name": "python",
   "nbconvert_exporter": "python",
   "pygments_lexer": "ipython3",
   "version": "3.6.1"
  }
 },
 "nbformat": 4,
 "nbformat_minor": 2
}
