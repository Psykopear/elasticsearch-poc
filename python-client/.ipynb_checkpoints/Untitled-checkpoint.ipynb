{
 "cells": [
  {
   "cell_type": "markdown",
   "metadata": {},
   "source": [
    "# Elasticsearch use case\n",
    "\n",
    "Here we try the possibility given by elasticsearch and its python high level sdk, elasticsearch_dsl."
   ]
  },
  {
   "cell_type": "markdown",
   "metadata": {},
   "source": [
    "First, import the needed modules and create a connection.\n",
    "\n",
    "Here we assume an istance of elasticsearch is running on localhost, on the default port."
   ]
  },
  {
   "cell_type": "code",
   "execution_count": 1,
   "metadata": {},
   "outputs": [
    {
     "data": {
      "text/plain": [
       "<Elasticsearch([{'host': 'localhost'}])>"
      ]
     },
     "execution_count": 1,
     "metadata": {},
     "output_type": "execute_result"
    }
   ],
   "source": [
    "from datetime import datetime\n",
    "\n",
    "from elasticsearch_dsl import (\n",
    "    DocType, Keyword, Date, Float, Nested, InnerObjectWrapper, Search\n",
    ")\n",
    "from elasticsearch_dsl.aggs import A\n",
    "from elasticsearch_dsl.connections import connections\n",
    "from elasticsearch_dsl.query import Q\n",
    "\n",
    "\n",
    "# Connect to a local ES instance\n",
    "connections.create_connection(hosts=['localhost'], timeout=20)\n"
   ]
  },
  {
   "cell_type": "markdown",
   "metadata": {},
   "source": [
    "## Define the doc type\n",
    "\n",
    "Next we define a DocType, BasicMetric, that will tell ES how to represent our objects.\n",
    "\n",
    "If this is not set first, ES will create it by itself the first time you send data to it.\n",
    "\n",
    "We create it manually so we can define some fields as Keyword rather than Text where we \n",
    "won't need Full Text Search. This will make the index faster, and will avoid the creation\n",
    "of a wrong index caused by malformed data"
   ]
  },
  {
   "cell_type": "code",
   "execution_count": 2,
   "metadata": {},
   "outputs": [],
   "source": [
    "class BasicMetric(DocType):\n",
    "    \"\"\"\n",
    "    Besic metric mapping\n",
    "    \"\"\"\n",
    "    metric_type = Keyword()\n",
    "    user_id = Keyword()\n",
    "    timestamp = Date()\n",
    "    value = Float()\n",
    "    metadata = Nested(\n",
    "        properties={\n",
    "            'type': Keyword(),\n",
    "            'unique_id': Keyword(),\n",
    "        }\n",
    "    )\n",
    "\n",
    "    class Meta:\n",
    "        index = 'metrics'\n"
   ]
  },
  {
   "cell_type": "markdown",
   "metadata": {},
   "source": [
    "## Initialize metric\n",
    "\n",
    "We can now add one record by istantiating a BasicMetric object and calling the save() method (much like the Django ORM)"
   ]
  },
  {
   "cell_type": "code",
   "execution_count": 11,
   "metadata": {},
   "outputs": [
    {
     "name": "stdout",
     "output_type": "stream",
     "text": [
      "==> Metric: BasicMetric(index='metrics', id='AVwLPq0we79RYn3ceAqL')\n"
     ]
    }
   ],
   "source": [
    "metric = BasicMetric(metric_type='time', user_id='prova id', timestamp=datetime.now(), value=1.245)\n",
    "metric.metadata.append({'type': 'provatype', 'unique_id': 'very unique id'})\n",
    "metric.save()\n",
    "print(\"==> Metric: %s\" % metric)\n"
   ]
  },
  {
   "cell_type": "markdown",
   "metadata": {
    "collapsed": true
   },
   "source": [
    "## An example search\n",
    "\n",
    "Here is how we can make call to ES. Let's say we want to ask for all our records, limiting the fields that will be returned:"
   ]
  },
  {
   "cell_type": "code",
   "execution_count": 10,
   "metadata": {},
   "outputs": [
    {
     "name": "stdout",
     "output_type": "stream",
     "text": [
      "==> Success:\tTrue\n",
      "==> Total hits:\t100002\n"
     ]
    }
   ],
   "source": [
    "s = Search()\n",
    "s = s.source(['user_id', 'value', 'metadata'])\n",
    "s.to_dict()\n",
    "response = s.execute()\n",
    "print(\"==> Success:\\t%s\" % response.success())\n",
    "print(\"==> Total hits:\\t%s\" % response.hits.total)"
   ]
  },
  {
   "cell_type": "markdown",
   "metadata": {},
   "source": [
    "## Some usefull search queries\n",
    "\n",
    "Elasticsearch DSL allow us to build queries with a DjangoORM-like syntax.\n",
    "Search objects have methods like .filter() and .exclude().\n",
    "\n",
    "We can build aggregations using the A object and we can build queries using Q objects\n",
    "and combine them with logic operators.\n",
    "\n"
   ]
  },
  {
   "cell_type": "markdown",
   "metadata": {},
   "source": [
    "### Get all records with a time metric value between 2000 and 30000\n"
   ]
  },
  {
   "cell_type": "code",
   "execution_count": 9,
   "metadata": {},
   "outputs": [
    {
     "name": "stdout",
     "output_type": "stream",
     "text": [
      "==> Response:\n",
      "<Response: [<Hit(metrics/basic_metric/16244): {'metric_type': 'time', 'user_id': '58fa8ad2-ca2a-4a56-b79e-...}>, <Hit(metrics/basic_metric/18379): {'metric_type': 'time', 'user_id': 'e4094361-70ad-46ce-aa2c-...}>, <Hit(metrics/basic_metric/18685): {'metric_type': 'time', 'user_id': '307362c7-cec4-4ebf-b52f-...}>, <Hit(metrics/basic_metric/25402): {'metric_type': 'time', 'user_id': '723b2cc8-52e3-411b-b9fc-...}>, <Hit(metrics/basic_metric/26768): {'metric_type': 'time', 'user_id': '67f3a7e0-86c1-4bab-9d8f-...}>, <Hit(metrics/basic_metric/31500): {'metric_type': 'time', 'user_id': '723b2cc8-52e3-411b-b9fc-...}>, <Hit(metrics/basic_metric/32725): {'metric_type': 'time', 'user_id': 'f3fb6328-d4b0-4b07-a753-...}>, <Hit(metrics/basic_metric/43264): {'metric_type': 'time', 'user_id': 'ce103d23-eada-4a98-8d7d-...}>, <Hit(metrics/basic_metric/46457): {'metric_type': 'time', 'user_id': 'ac6cfc73-4044-4cf1-9ad4-...}>, <Hit(metrics/basic_metric/61072): {'metric_type': 'time', 'user_id': 'b56dfa51-5172-44ab-9145-...}>]>\n",
      "==> Hits:\n",
      "<Hit(metrics/basic_metric/16244): {'metric_type': 'time', 'user_id': '58fa8ad2-ca2a-4a56-b79e-...}>\n",
      "==> First user id:\n",
      "58fa8ad2-ca2a-4a56-b79e-d6e048725bd6\n"
     ]
    }
   ],
   "source": [
    "s = Search().filter('range', value={\"gte\": 2000, \"lte\": 30000})\n",
    "response = s.execute()\n",
    "print(\"==> Response:\")\n",
    "print(response)\n",
    "print(\"==> Hits:\")\n",
    "print(response.hits[0])\n",
    "print(\"==> First user id:\")\n",
    "print(response.hits[0].user_id)"
   ]
  },
  {
   "cell_type": "markdown",
   "metadata": {},
   "source": [
    "### Number of records per user\n",
    "\n",
    "This is how we can build an aggregation.\n",
    "We can also use the to_dict() method to show the query we just built, and if we set the size of the Search object to 0, we can retrieve only the aggregations."
   ]
  },
  {
   "cell_type": "code",
   "execution_count": 12,
   "metadata": {},
   "outputs": [
    {
     "data": {
      "text/plain": [
       "{'aggs': {'group_by_user': {'terms': {'field': 'user_id',\n",
       "    'include': 'user_id'}}},\n",
       " 'from': 0,\n",
       " 'query': {'match_all': {}},\n",
       " 'size': 0}"
      ]
     },
     "execution_count": 12,
     "metadata": {},
     "output_type": "execute_result"
    }
   ],
   "source": [
    "# Define aggregation\n",
    "agg = A('terms', field='user_id', include='user_id')\n",
    "# init search\n",
    "s = Search()\n",
    "# Size 0\n",
    "s = s[0:0]\n",
    "# Add aggregation\n",
    "s.aggs.bucket('group_by_user', agg)\n",
    "# Dict representation\n",
    "s.to_dict()"
   ]
  },
  {
   "cell_type": "markdown",
   "metadata": {},
   "source": [
    "### Average time by segment\n",
    "\n",
    "Here we use the Q object to build the query"
   ]
  },
  {
   "cell_type": "code",
   "execution_count": 16,
   "metadata": {},
   "outputs": [
    {
     "name": "stdout",
     "output_type": "stream",
     "text": [
      "==> Buckets: [{'key': '382d786a-b416-4df3-97e0-1cca4555b020', 'doc_count':...}, {'key': '696982c5-2baf-467c-9c69-734eb807e02a', 'doc_count':...}, {'key': '77f5e0b5-39a6-4569-851e-4d05030864d2', 'doc_count':...}, {'key': '99b7a52e-da4b-49bd-b9ce-3feae4307b19', 'doc_count':...}, {'key': 'bf24f051-9f36-40bc-aedf-7379d2b0d543', 'doc_count':...}, {'key': 'ece95a0e-f710-4409-b94c-407e7bf0ba0a', 'doc_count':...}, {'key': 'a9d3ca0d-4aa6-481b-94e5-d0f865d67240', 'doc_count':...}, {'key': '63a4a9a1-0775-4772-95db-8580801ded8f', 'doc_count':...}, {'key': '318e1d9b-3204-461a-a8c2-aa0672ab1983', 'doc_count':...}, {'key': '442038ca-efd5-4300-8b37-6cc3c41f054c', 'doc_count':...}]\n",
      "==> Doc count: 1174\n"
     ]
    }
   ],
   "source": [
    "s = Search()\n",
    "\n",
    "# Set size to 0, we only want aggregations\n",
    "s = s[0:0]\n",
    "\n",
    "# Queries\n",
    "s = s.filter('term', metric_type='time')\n",
    "q = Q('term', metadata__resource_type='segment')\n",
    "s = s.filter('nested', path='metadata', query=q)\n",
    "\n",
    "# Aggregations (read it down-top)\n",
    "a = A('avg', field='value')\n",
    "a = A('reverse_nested', aggs={'avg_time': a})\n",
    "a = A('terms', field='metadata.resource_id', aggs={'average': a})\n",
    "a = A('nested', path='metadata', aggs={'segments': a})\n",
    "s.aggs.bucket('by_segment_id', a)\n",
    "\n",
    "s.to_dict()\n",
    "\n",
    "resp = s.execute()\n",
    "print(\"==> Buckets: %s\" % resp.aggregations.by_segment_id.segments.buckets)\n",
    "print(\"==> Doc count: %s\" % resp.aggregations.by_segment_id.segments.buckets[0].doc_count)\n"
   ]
  },
  {
   "cell_type": "markdown",
   "metadata": {},
   "source": [
    "### Best time for a given segment"
   ]
  },
  {
   "cell_type": "code",
   "execution_count": 17,
   "metadata": {},
   "outputs": [
    {
     "data": {
      "text/plain": [
       "{'_source': ['user_id', 'value'],\n",
       " 'from': 0,\n",
       " 'query': {'bool': {'filter': [{'term': {'metric_type': 'time'}},\n",
       "    {'nested': {'path': 'metadata',\n",
       "      'query': {'bool': {'must': [{'term': {'metadata.resource_type': 'segment'}},\n",
       "         {'term': {'metadata.resource_id': 'segment-id'}}]}}}}]}},\n",
       " 'size': 1,\n",
       " 'sort': [{'value': {'order': 'desc'}}]}"
      ]
     },
     "execution_count": 17,
     "metadata": {},
     "output_type": "execute_result"
    }
   ],
   "source": [
    "s = Search()\n",
    "\n",
    "# We only want the first result and user_id and value fields\n",
    "s = s[0:1]\n",
    "s = s.source(['user_id', 'value'])\n",
    "\n",
    "# Sorting\n",
    "s = s.sort('-value')\n",
    "\n",
    "# Filter it\n",
    "s = s.filter('term', metric_type='time')\n",
    "q = Q('term', metadata__resource_type='segment')\n",
    "q &= Q('term', metadata__resource_id='segment-id')\n",
    "s = s.filter('nested', path='metadata', query=q)\n",
    "\n",
    "s.to_dict()"
   ]
  },
  {
   "cell_type": "code",
   "execution_count": 18,
   "metadata": {},
   "outputs": [
    {
     "data": {
      "text/plain": [
       "<Response: []>"
      ]
     },
     "execution_count": 18,
     "metadata": {},
     "output_type": "execute_result"
    }
   ],
   "source": [
    "s.execute() # No results if we don't set an existing segment_id"
   ]
  },
  {
   "cell_type": "markdown",
   "metadata": {},
   "source": [
    "### Best time in a given segment for a given user"
   ]
  },
  {
   "cell_type": "code",
   "execution_count": 22,
   "metadata": {},
   "outputs": [
    {
     "data": {
      "text/plain": [
       "{'_source': ['user_id', 'value'],\n",
       " 'from': 0,\n",
       " 'query': {'bool': {'filter': [{'term': {'metric_type': 'time'}},\n",
       "    {'term': {'user_id': 'user-id'}},\n",
       "    {'nested': {'path': 'metadata',\n",
       "      'query': {'bool': {'filter': [{'term': {'metadata.resource_type': 'segment'}},\n",
       "         {'term': {'metadata.resource_id': 'segment-id'}}]}}}}]}},\n",
       " 'size': 1,\n",
       " 'sort': [{'value': {'order': 'desc'}}]}"
      ]
     },
     "execution_count": 22,
     "metadata": {},
     "output_type": "execute_result"
    }
   ],
   "source": [
    "q1 = {'term': {\"metadata__resource_type\": 'segment'}}\n",
    "q2 = {'term': {\"metadata__resource_id\": 'segment-id'}}\n",
    "q = Q('bool', filter=[q1,q2])\n",
    "\n",
    "s = Search()[0:1]\\\n",
    "        .source(['user_id', 'value'])\\\n",
    "        .sort('-value')\\\n",
    "        .filter('term', metric_type='time')\\\n",
    "        .filter('term', user_id='user-id')\\\n",
    "        .filter('nested', path='metadata', query=q)\n",
    "\n",
    "s.to_dict()"
   ]
  }
 ],
 "metadata": {
  "kernelspec": {
   "display_name": "Python 3",
   "language": "python",
   "name": "python3"
  },
  "language_info": {
   "codemirror_mode": {
    "name": "ipython",
    "version": 3
   },
   "file_extension": ".py",
   "mimetype": "text/x-python",
   "name": "python",
   "nbconvert_exporter": "python",
   "pygments_lexer": "ipython3",
   "version": "3.6.1"
  }
 },
 "nbformat": 4,
 "nbformat_minor": 2
}
